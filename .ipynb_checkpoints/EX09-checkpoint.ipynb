{
 "cells": [
  {
   "cell_type": "code",
   "execution_count": null,
   "id": "25fcb95a",
   "metadata": {},
   "outputs": [],
   "source": [
    "# Load the necessary packages\n",
    "import numpy as np\n",
    "import matplotlib.pyplot as plt\n",
    "import cv2"
   ]
  },
  {
   "cell_type": "code",
   "execution_count": null,
   "id": "52b3ef52",
   "metadata": {},
   "outputs": [],
   "source": [
    "# Read the Image and convert to grayscale\n",
    "image = cv2.imread(\"mashabear.jpg\",1)\n",
    "image = cv2.cvtColor(image,cv2.COLOR_BGR2RGB)\n",
    "image_gray = cv2.imread(\"mashabear.jpg\",0)"
   ]
  },
  {
   "cell_type": "code",
   "execution_count": null,
   "id": "3d015d4b",
   "metadata": {},
   "outputs": [],
   "source": [
    "# Use Global thresholding to segment the image\n",
    "ret,thresh_img1=cv2.threshold(image_gray,86,255,cv2.THRESH_BINARY)\n",
    "ret,thresh_img2=cv2.threshold(image_gray,86,255,cv2.THRESH_BINARY_INV)\n",
    "ret,thresh_img3=cv2.threshold(image_gray,86,255,cv2.THRESH_TOZERO)\n",
    "ret,thresh_img4=cv2.threshold(image_gray,86,255,cv2.THRESH_TOZERO_INV)\n",
    "ret,thresh_img5=cv2.threshold(image_gray,100,255,cv2.THRESH_TRUNC)"
   ]
  },
  {
   "cell_type": "code",
   "execution_count": null,
   "id": "6d558e76",
   "metadata": {},
   "outputs": [],
   "source": [
    "# Use Adaptive thresholding to segment the image\n",
    "thresh_img7=cv2.adaptiveThreshold(image_gray,255,cv2.ADAPTIVE_THRESH_MEAN_C,cv2.THRESH_BINARY,11,2)\n",
    "thresh_img8=cv2.adaptiveThreshold(image_gray,255,cv2.ADAPTIVE_THRESH_GAUSSIAN_C,cv2.THRESH_BINARY,11,2)"
   ]
  },
  {
   "cell_type": "code",
   "execution_count": null,
   "id": "dda4f192",
   "metadata": {},
   "outputs": [],
   "source": [
    "# Use Otsu's method to segment the image \n",
    "ret,thresh_img6=cv2.threshold(image_gray,0,255,cv2.THRESH_BINARY+cv2.THRESH_OTSU)"
   ]
  },
  {
   "cell_type": "code",
   "execution_count": null,
   "id": "c88ac6e1",
   "metadata": {},
   "outputs": [],
   "source": [
    "# Display the results\n",
    "titles=[\"Gray Image\",\"Threshold Image (Binary)\",\"Threshold Image (Binary Inverse)\",\"Threshold Image (To Zero)\"\n",
    "       ,\"Threshold Image (To Zero-Inverse)\",\"Threshold Image (Truncate)\",\"Otsu\",\"Adaptive Threshold (Mean)\",\"Adaptive Threshold (Gaussian)\"]\n",
    "images=[image_gray,thresh_img1,thresh_img2,thresh_img3,thresh_img4,thresh_img5,thresh_img6,thresh_img7,thresh_img8]\n",
    "for i in range(0,9):\n",
    "    plt.figure(figsize=(10,10))\n",
    "    plt.subplot(1,2,1)\n",
    "    plt.title(\"Original Image\")\n",
    "    plt.imshow(image)\n",
    "    plt.axis(\"off\")\n",
    "    plt.subplot(1,2,2)\n",
    "    plt.title(titles[i])\n",
    "    plt.imshow(cv2.cvtColor(images[i],cv2.COLOR_BGR2RGB))\n",
    "    plt.axis(\"off\")\n",
    "    plt.show()"
   ]
  }
 ],
 "metadata": {
  "kernelspec": {
   "display_name": "Python 3",
   "language": "python",
   "name": "python3"
  },
  "language_info": {
   "codemirror_mode": {
    "name": "ipython",
    "version": 3
   },
   "file_extension": ".py",
   "mimetype": "text/x-python",
   "name": "python",
   "nbconvert_exporter": "python",
   "pygments_lexer": "ipython3",
   "version": "3.8.8"
  }
 },
 "nbformat": 4,
 "nbformat_minor": 5
}
